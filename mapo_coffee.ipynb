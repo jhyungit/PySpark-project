{
 "cells": [
  {
   "cell_type": "code",
   "execution_count": 1,
   "id": "c0d188d0-e095-4a5f-b7a3-1f7d2e89587c",
   "metadata": {},
   "outputs": [],
   "source": [
    "from pyspark import SparkContext\n",
    "from pyspark.sql import SQLContext, Row, SparkSession\n",
    "import pyspark.sql.functions as F\n",
    "from pyspark.sql.types import DoubleType,IntegerType, StringType, BooleanType\n",
    "import re"
   ]
  },
  {
   "cell_type": "code",
   "execution_count": 2,
   "id": "89158cd7-af7f-4db7-bfee-df4777fe7c4b",
   "metadata": {},
   "outputs": [
    {
     "name": "stderr",
     "output_type": "stream",
     "text": [
      "/usr/local/spark/python/pyspark/sql/context.py:112: FutureWarning: Deprecated in 3.0.0. Use SparkSession.builder.getOrCreate() instead.\n",
      "  warnings.warn(\n"
     ]
    }
   ],
   "source": [
    "sc = SparkContext('local')\n",
    "sqlCtx = SQLContext( sc )"
   ]
  },
  {
   "cell_type": "markdown",
   "id": "d475e05f-52a7-469c-be27-aaf63ee2a6bc",
   "metadata": {},
   "source": [
    "# 읽기"
   ]
  },
  {
   "cell_type": "code",
   "execution_count": 3,
   "id": "cdada731-ef8e-424b-bb0e-ab1ad5bb9007",
   "metadata": {},
   "outputs": [],
   "source": [
    "df = sqlCtx.read.csv('data/mapo_cafe.csv', encoding='cp949',\n",
    "                     header = True, inferSchema=True)"
   ]
  },
  {
   "cell_type": "code",
   "execution_count": 4,
   "id": "9dcd8af3-e9ee-4493-818b-36b5e3b22e46",
   "metadata": {},
   "outputs": [
    {
     "name": "stdout",
     "output_type": "stream",
     "text": [
      "+----------+-----------------------------------+----------------------------------+--------------------------------+------+----+\n",
      "|    업종명|                             업소명|                    소재지(도로명)|                    소재지(지번)|업태명| _c5|\n",
      "+----------+-----------------------------------+----------------------------------+--------------------------------+------+----+\n",
      "|휴게음식점|     (주)보나비아티제상암드림타워점| 서울특별시 마포구 월드컵북로56...| 서울특별시 마포구 상암동 159...|커피숍|null|\n",
      "|휴게음식점|    (주)스타벅스커피코리아 망원역점|  서울특별시 마포구 월드컵로 74...| 서울특별시 마포구 서교동 475...|커피숍|null|\n",
      "|휴게음식점|      (주)엘에스씨푸드 마포구청카페|  서울특별시 마포구 월드컵로 21...| 서울특별시 마포구 성산동 370...|커피숍|null|\n",
      "|휴게음식점|            (주)영우 홍익대학교매점|  서울특별시 마포구 와우산로 94...|  서울특별시 마포구 상수동 72-1 |커피숍|null|\n",
      "|휴게음식점|         (주)영우홍익대학교카페나무|  서울특별시 마포구 와우산로 94...| 서울특별시 마포구 상수동 72-...|커피숍|null|\n",
      "|휴게음식점|                   (주)잠두봉더나인| 서울특별시 마포구 마포나루길 5...| 서울특별시 마포구 합정동 352...|커피숍|null|\n",
      "|휴게음식점|          (주)커피빈코리아 상수역점| 서울특별시 마포구 와우산로10길...| 서울특별시 마포구 상수동 143...|커피숍|null|\n",
      "|휴게음식점|(주)커피빈코리아상암SBS미디어센터점|  서울특별시 마포구 상암산로 82...| 서울특별시 마포구 상암동 160...|커피숍|null|\n",
      "|휴게음식점|    (주)커피빈코리아홍대역8번출구점| 서울특별시 마포구 양화로18안길...| 서울특별시 마포구 동교동 168-4 |커피숍|null|\n",
      "|휴게음식점|                  (주)하우 신촌역점| 서울특별시 마포구 신촌로 지하 ...|서울특별시 마포구 노고산동 31...|커피숍|null|\n",
      "|휴게음식점| (주)학산 테라로사커피 노을공원지점| 서울특별시 마포구 하늘공원로 1...| 서울특별시 마포구 상암동 481...|커피숍|null|\n",
      "|휴게음식점|                (한)한스케익 공덕점|   서울특별시 마포구 백범로 202...|서울특별시 마포구 신공덕동 17...|커피숍|null|\n",
      "|휴게음식점|                  120겹 파이 망원점|  서울특별시 마포구 희우정로 12...| 서울특별시 마포구 망원동 454...|커피숍|null|\n",
      "|휴게음식점|                22펠로톤(22PELOTON)| 서울특별시 마포구 월드컵로3길 ...| 서울특별시 마포구 합정동 387...|커피숍|null|\n",
      "|휴게음식점|                               3POP|  서울특별시 마포구 신촌로16길 ...|서울특별시 마포구 노고산동 56...|커피숍|null|\n",
      "|휴게음식점|                79파운야드 망원본점| 서울특별시 마포구 월드컵로13길...| 서울특별시 마포구 망원동 400-2 |커피숍|null|\n",
      "|휴게음식점|                           99밀크티| 서울특별시 마포구 와우산로29가...| 서울특별시 마포구 서교동 343...|커피숍|null|\n",
      "|휴게음식점|                  99트레인(99TRAIN)|서울특별시 마포구 월드컵북로4길...| 서울특별시 마포구 동교동 201...|커피숍|null|\n",
      "|휴게음식점|                         Jazzda카페|  서울특별시 마포구 양화로6길 1...| 서울특별시 마포구 서교동 394...|커피숍|null|\n",
      "|휴게음식점|                         X・D팩토리|   서울특별시 마포구 홍익로 26 ...| 서울특별시 마포구 동교동 163...|커피숍|null|\n",
      "+----------+-----------------------------------+----------------------------------+--------------------------------+------+----+\n",
      "only showing top 20 rows\n",
      "\n"
     ]
    }
   ],
   "source": [
    "df.show()"
   ]
  },
  {
   "cell_type": "code",
   "execution_count": 5,
   "id": "e850e5d9-a64b-4e39-81d2-51a57edfbc82",
   "metadata": {},
   "outputs": [
    {
     "data": {
      "text/plain": [
       "898"
      ]
     },
     "execution_count": 5,
     "metadata": {},
     "output_type": "execute_result"
    }
   ],
   "source": [
    "df.count()"
   ]
  },
  {
   "cell_type": "code",
   "execution_count": 6,
   "id": "cf9cb581-06e8-4826-a100-ffbd90f704d6",
   "metadata": {},
   "outputs": [
    {
     "name": "stdout",
     "output_type": "stream",
     "text": [
      "+------+\n",
      "|업태명|\n",
      "+------+\n",
      "|커피숍|\n",
      "+------+\n",
      "\n"
     ]
    }
   ],
   "source": [
    "df.select(F.col(\"업태명\")).drop_duplicates().show()"
   ]
  },
  {
   "cell_type": "code",
   "execution_count": 7,
   "id": "a8a1cdce-3561-4145-87be-179ad8a577ba",
   "metadata": {},
   "outputs": [
    {
     "name": "stdout",
     "output_type": "stream",
     "text": [
      "+----------+\n",
      "|    업종명|\n",
      "+----------+\n",
      "|휴게음식점|\n",
      "+----------+\n",
      "\n"
     ]
    }
   ],
   "source": [
    "df.select(F.col(\"업종명\")).drop_duplicates().show()"
   ]
  },
  {
   "cell_type": "markdown",
   "id": "9c4e0c32-0383-40df-8a5b-c06b6da8d5a7",
   "metadata": {},
   "source": [
    "# UDF - 전처리\n",
    "\n",
    "### 도로명 주소와 지번 주소가 육안으로는 빈 것으로 보임\n",
    "1. where(F.col(\"도로명\") != \"\")\n",
    "2. where(F.col(\"도로명\").isNotNull())\n",
    "\n",
    "둘 다 위의 케이스로 걸러지지 않아서\n",
    "정규표현식으로 전처리를 하기 위해 UDF를 사용했다."
   ]
  },
  {
   "cell_type": "code",
   "execution_count": 8,
   "id": "c51a971b-5bfc-4890-828e-d463434b1e1d",
   "metadata": {},
   "outputs": [],
   "source": [
    "alphanumeric = re.compile(r\"[0-9ㄱ-ㅎ가-힣A-Za-z]\") # 정규식\n",
    "\n",
    "# udf1\n",
    "@F.udf(returnType=BooleanType())\n",
    "def udf_filter_null(x):\n",
    "    if re.search(alphanumeric, x):\n",
    "        return True\n",
    "    else:\n",
    "        return False\n",
    "\n",
    "# udf2\n",
    "@F.udf(returnType=StringType())\n",
    "def split_ro(x):\n",
    "    return x.split()[2]\n",
    "\n",
    "# udf3\n",
    "@F.udf(returnType=StringType())\n",
    "def split_dong(x):\n",
    "    return x.split()[2]"
   ]
  },
  {
   "cell_type": "code",
   "execution_count": 9,
   "id": "35e73319-9060-4fb5-a261-e73e0d7bb6b8",
   "metadata": {},
   "outputs": [
    {
     "name": "stdout",
     "output_type": "stream",
     "text": [
      "+-----------------------------------+----------------------------------+--------------------------------+\n",
      "|                             업소명|                            도로명|                            지번|\n",
      "+-----------------------------------+----------------------------------+--------------------------------+\n",
      "|     (주)보나비아티제상암드림타워점| 서울특별시 마포구 월드컵북로56...| 서울특별시 마포구 상암동 159...|\n",
      "|    (주)스타벅스커피코리아 망원역점|  서울특별시 마포구 월드컵로 74...| 서울특별시 마포구 서교동 475...|\n",
      "|      (주)엘에스씨푸드 마포구청카페|  서울특별시 마포구 월드컵로 21...| 서울특별시 마포구 성산동 370...|\n",
      "|            (주)영우 홍익대학교매점|  서울특별시 마포구 와우산로 94...|  서울특별시 마포구 상수동 72-1 |\n",
      "|         (주)영우홍익대학교카페나무|  서울특별시 마포구 와우산로 94...| 서울특별시 마포구 상수동 72-...|\n",
      "|                   (주)잠두봉더나인| 서울특별시 마포구 마포나루길 5...| 서울특별시 마포구 합정동 352...|\n",
      "|          (주)커피빈코리아 상수역점| 서울특별시 마포구 와우산로10길...| 서울특별시 마포구 상수동 143...|\n",
      "|(주)커피빈코리아상암SBS미디어센터점|  서울특별시 마포구 상암산로 82...| 서울특별시 마포구 상암동 160...|\n",
      "|    (주)커피빈코리아홍대역8번출구점| 서울특별시 마포구 양화로18안길...| 서울특별시 마포구 동교동 168-4 |\n",
      "|                  (주)하우 신촌역점| 서울특별시 마포구 신촌로 지하 ...|서울특별시 마포구 노고산동 31...|\n",
      "| (주)학산 테라로사커피 노을공원지점| 서울특별시 마포구 하늘공원로 1...| 서울특별시 마포구 상암동 481...|\n",
      "|                (한)한스케익 공덕점|   서울특별시 마포구 백범로 202...|서울특별시 마포구 신공덕동 17...|\n",
      "|                  120겹 파이 망원점|  서울특별시 마포구 희우정로 12...| 서울특별시 마포구 망원동 454...|\n",
      "|                22펠로톤(22PELOTON)| 서울특별시 마포구 월드컵로3길 ...| 서울특별시 마포구 합정동 387...|\n",
      "|                               3POP|  서울특별시 마포구 신촌로16길 ...|서울특별시 마포구 노고산동 56...|\n",
      "|                79파운야드 망원본점| 서울특별시 마포구 월드컵로13길...| 서울특별시 마포구 망원동 400-2 |\n",
      "|                           99밀크티| 서울특별시 마포구 와우산로29가...| 서울특별시 마포구 서교동 343...|\n",
      "|                  99트레인(99TRAIN)|서울특별시 마포구 월드컵북로4길...| 서울특별시 마포구 동교동 201...|\n",
      "|                         Jazzda카페|  서울특별시 마포구 양화로6길 1...| 서울특별시 마포구 서교동 394...|\n",
      "|                         X・D팩토리|   서울특별시 마포구 홍익로 26 ...| 서울특별시 마포구 동교동 163...|\n",
      "+-----------------------------------+----------------------------------+--------------------------------+\n",
      "only showing top 20 rows\n",
      "\n"
     ]
    }
   ],
   "source": [
    "new_df = df.select(\n",
    "    F.col(\"업소명\"),\n",
    "    F.col(\"소재지(도로명)\").alias(\"도로명\"),\n",
    "    F.col(\"소재지(지번)\").alias(\"지번\")\n",
    ").where(udf_filter_null(F.col(\"업소명\"))) # udf1 사용\n",
    "\n",
    "new_df.show()"
   ]
  },
  {
   "cell_type": "code",
   "execution_count": 10,
   "id": "9a7bfa71-f671-4c04-b3cd-3dbebc716d7f",
   "metadata": {},
   "outputs": [
    {
     "data": {
      "text/plain": [
       "898"
      ]
     },
     "execution_count": 10,
     "metadata": {},
     "output_type": "execute_result"
    }
   ],
   "source": [
    "new_df.count() # 변동이 있나 확인"
   ]
  },
  {
   "cell_type": "code",
   "execution_count": 11,
   "id": "4b7ca376-4dc2-4a0b-84a5-a51d84010e5d",
   "metadata": {},
   "outputs": [],
   "source": [
    "df_street = new_df.where(\n",
    "    udf_filter_null(F.col(\"도로명\")) # udf1 사용\n",
    ").select(\"업소명\", \"도로명\")\n",
    "\n",
    "df_lot = new_df.where(\n",
    "    udf_filter_null(F.col(\"지번\")) # udf1 사용\n",
    ").select(\"업소명\", \"지번\")"
   ]
  },
  {
   "cell_type": "code",
   "execution_count": 12,
   "id": "68c9a489-4c8b-4be5-a641-df94a79ac317",
   "metadata": {},
   "outputs": [
    {
     "data": {
      "text/plain": [
       "894"
      ]
     },
     "execution_count": 12,
     "metadata": {},
     "output_type": "execute_result"
    }
   ],
   "source": [
    "df_street.count()"
   ]
  },
  {
   "cell_type": "code",
   "execution_count": 13,
   "id": "e94ff28c-8481-44f8-b9c7-88cb615a282e",
   "metadata": {},
   "outputs": [
    {
     "data": {
      "text/plain": [
       "897"
      ]
     },
     "execution_count": 13,
     "metadata": {},
     "output_type": "execute_result"
    }
   ],
   "source": [
    "df_lot.count()"
   ]
  },
  {
   "cell_type": "code",
   "execution_count": 14,
   "id": "77cc78ee-84e6-4d11-9ed9-c246bc7e6775",
   "metadata": {},
   "outputs": [
    {
     "name": "stdout",
     "output_type": "stream",
     "text": [
      "+--------------+\n",
      "|    도로명(로)|\n",
      "+--------------+\n",
      "|월드컵북로56길|\n",
      "|      월드컵로|\n",
      "|      월드컵로|\n",
      "|      와우산로|\n",
      "|      와우산로|\n",
      "|    마포나루길|\n",
      "|  와우산로10길|\n",
      "|      상암산로|\n",
      "|  양화로18안길|\n",
      "|        신촌로|\n",
      "|    하늘공원로|\n",
      "|        백범로|\n",
      "|      희우정로|\n",
      "|   월드컵로3길|\n",
      "|    신촌로16길|\n",
      "|  월드컵로13길|\n",
      "|와우산로29가길|\n",
      "| 월드컵북로4길|\n",
      "|     양화로6길|\n",
      "|        홍익로|\n",
      "+--------------+\n",
      "only showing top 20 rows\n",
      "\n"
     ]
    }
   ],
   "source": [
    "udf_df_street = df_street.select(\n",
    "                    split_ro(F.col(\"도로명\")).alias(\"도로명(로)\") # udf2 사용\n",
    "                    )\n",
    "udf_df_street.show()"
   ]
  },
  {
   "cell_type": "markdown",
   "id": "d383fa00-93ea-4cae-8f79-187da676e353",
   "metadata": {},
   "source": [
    "# 집계"
   ]
  },
  {
   "cell_type": "code",
   "execution_count": 15,
   "id": "25d50b00-1676-4d05-bfad-566bb9901c18",
   "metadata": {},
   "outputs": [
    {
     "name": "stdout",
     "output_type": "stream",
     "text": [
      "+--------------+-----+\n",
      "|    도로명(로)|count|\n",
      "+--------------+-----+\n",
      "|    월드컵북로|   50|\n",
      "|      마포대로|   40|\n",
      "|        양화로|   35|\n",
      "|      월드컵로|   24|\n",
      "|        백범로|   23|\n",
      "|        동교로|   21|\n",
      "|      와우산로|   20|\n",
      "|      성미산로|   19|\n",
      "|        독막로|   17|\n",
      "|        토정로|   15|\n",
      "|    어울마당로|   15|\n",
      "|        성암로|   15|\n",
      "|        포은로|   13|\n",
      "|   월드컵로3길|   12|\n",
      "|      잔다리로|   10|\n",
      "|        신촌로|    9|\n",
      "|  와우산로29길|    9|\n",
      "|월드컵북로54길|    9|\n",
      "|        서강로|    8|\n",
      "|      매봉산로|    8|\n",
      "+--------------+-----+\n",
      "only showing top 20 rows\n",
      "\n"
     ]
    }
   ],
   "source": [
    "# groupby 및 count aggregation(집계)\n",
    "\n",
    "agg_df_street = udf_df_street.groupBy(\"도로명(로)\").agg(\n",
    "    F.count(F.col(\"도로명(로)\")).alias(\"count\")).orderBy(F.col(\"count\").desc())\n",
    "\n",
    "agg_df_street.show()"
   ]
  },
  {
   "cell_type": "code",
   "execution_count": 16,
   "id": "19d920cb-5b72-4b1b-8ead-e436c1133114",
   "metadata": {},
   "outputs": [
    {
     "name": "stdout",
     "output_type": "stream",
     "text": [
      "+--------+\n",
      "|지번(동)|\n",
      "+--------+\n",
      "|  상암동|\n",
      "|  서교동|\n",
      "|  성산동|\n",
      "|  상수동|\n",
      "|  상수동|\n",
      "|  합정동|\n",
      "|  상수동|\n",
      "|  상암동|\n",
      "|  동교동|\n",
      "|노고산동|\n",
      "|  상암동|\n",
      "|신공덕동|\n",
      "|  망원동|\n",
      "|  합정동|\n",
      "|노고산동|\n",
      "|  망원동|\n",
      "|  서교동|\n",
      "|  동교동|\n",
      "|  서교동|\n",
      "|  동교동|\n",
      "+--------+\n",
      "only showing top 20 rows\n",
      "\n"
     ]
    }
   ],
   "source": [
    "# 지번주소 처리 (동만 추출) - udf 사용 split_dong\n",
    "\n",
    "udf_df_lot = df_lot.select(\n",
    "                split_dong(F.col(\"지번\")).alias(\"지번(동)\") # udf3 사용\n",
    "                )\n",
    "udf_df_lot.show()"
   ]
  },
  {
   "cell_type": "code",
   "execution_count": 17,
   "id": "e765a7c4-1b7d-43bb-bcde-bccef750b15d",
   "metadata": {},
   "outputs": [
    {
     "name": "stdout",
     "output_type": "stream",
     "text": [
      "+--------+-----+\n",
      "|지번(동)|count|\n",
      "+--------+-----+\n",
      "|  서교동|  174|\n",
      "|  상암동|   98|\n",
      "|  연남동|   92|\n",
      "|  망원동|   84|\n",
      "|  동교동|   68|\n",
      "|  합정동|   64|\n",
      "|  도화동|   45|\n",
      "|  성산동|   43|\n",
      "|  공덕동|   36|\n",
      "|  신수동|   30|\n",
      "|  염리동|   27|\n",
      "|  상수동|   25|\n",
      "|노고산동|   24|\n",
      "|  대흥동|   21|\n",
      "|  아현동|   20|\n",
      "|  창전동|   14|\n",
      "|신공덕동|   11|\n",
      "|  용강동|    9|\n",
      "|    중동|    5|\n",
      "|  구수동|    3|\n",
      "+--------+-----+\n",
      "only showing top 20 rows\n",
      "\n"
     ]
    }
   ],
   "source": [
    "# groupby 및 count aggregation(집계)\n",
    "\n",
    "agg_df_lot = udf_df_lot.groupBy(\"지번(동)\").agg(\n",
    "    F.count(F.col(\"지번(동)\")).alias(\"count\")).orderBy(F.col(\"count\").desc())\n",
    "\n",
    "agg_df_lot.show()"
   ]
  },
  {
   "cell_type": "markdown",
   "id": "85b687d1-0824-482a-abe1-62fa48b7d466",
   "metadata": {},
   "source": [
    "## 지번 주소-상위 10군데"
   ]
  },
  {
   "cell_type": "code",
   "execution_count": 18,
   "id": "8778f62c-0379-423f-bf42-33158c165f81",
   "metadata": {},
   "outputs": [
    {
     "name": "stdout",
     "output_type": "stream",
     "text": [
      "+--------+-----+\n",
      "|지번(동)|count|\n",
      "+--------+-----+\n",
      "|  서교동|  174|\n",
      "|  상암동|   98|\n",
      "|  연남동|   92|\n",
      "|  망원동|   84|\n",
      "|  동교동|   68|\n",
      "|  합정동|   64|\n",
      "|  도화동|   45|\n",
      "|  성산동|   43|\n",
      "|  공덕동|   36|\n",
      "|  신수동|   30|\n",
      "+--------+-----+\n",
      "\n"
     ]
    }
   ],
   "source": [
    "# 지번주소가 데이터가 조금 더 밀집 돼 있음. -> 이를 사용\n",
    "# 상위 10개\n",
    "\n",
    "top10_agg_df_lot = agg_df_lot.limit(10)\n",
    "top10_agg_df_lot.show()"
   ]
  },
  {
   "cell_type": "code",
   "execution_count": 19,
   "id": "2e889997-cc43-49d6-a0b5-abb2b57b490b",
   "metadata": {},
   "outputs": [],
   "source": [
    "import matplotlib.pyplot as plt\n",
    "import matplotlib\n",
    "import matplotlib.font_manager as fm\n",
    "from matplotlib import rc\n",
    "\n",
    "font_location = \"./font/NanumGothic.ttf\"\n",
    "font_prop = fm.FontProperties(fname=font_location)"
   ]
  },
  {
   "cell_type": "code",
   "execution_count": 20,
   "id": "fd309916-c0f5-4ac7-807d-9cd580d7ce5e",
   "metadata": {},
   "outputs": [
    {
     "data": {
      "image/png": "[encoded data removed]",
      "text/plain": [
       "<Figure size 640x480 with 1 Axes>"
      ]
     },
     "metadata": {},
     "output_type": "display_data"
    }
   ],
   "source": [
    "pdlot = top10_agg_df_lot.toPandas()\n",
    "plt.scatter(pdlot['지번(동)'],pdlot['count'])\n",
    "plt.xticks(fontproperties=font_prop)\n",
    "plt.show()"
   ]
  },
  {
   "cell_type": "markdown",
   "id": "e9ac4808-e53c-4d08-b33f-8b5466b4c922",
   "metadata": {},
   "source": [
    "# + EXTRA 도로명 주소도 한 번 해보기!"
   ]
  },
  {
   "cell_type": "code",
   "execution_count": 21,
   "id": "f6c01e31-58f4-4b1b-8d65-0cdb1b11ee10",
   "metadata": {},
   "outputs": [
    {
     "name": "stdout",
     "output_type": "stream",
     "text": [
      "+--------------+-----+\n",
      "|    도로명(로)|count|\n",
      "+--------------+-----+\n",
      "|    월드컵북로|   50|\n",
      "|      마포대로|   40|\n",
      "|        양화로|   35|\n",
      "|      월드컵로|   24|\n",
      "|        백범로|   23|\n",
      "|        동교로|   21|\n",
      "|      와우산로|   20|\n",
      "|      성미산로|   19|\n",
      "|        독막로|   17|\n",
      "|        토정로|   15|\n",
      "|    어울마당로|   15|\n",
      "|        성암로|   15|\n",
      "|        포은로|   13|\n",
      "|   월드컵로3길|   12|\n",
      "|      잔다리로|   10|\n",
      "|        신촌로|    9|\n",
      "|  와우산로29길|    9|\n",
      "|월드컵북로54길|    9|\n",
      "|        서강로|    8|\n",
      "|      매봉산로|    8|\n",
      "+--------------+-----+\n",
      "only showing top 20 rows\n",
      "\n"
     ]
    }
   ],
   "source": [
    "agg_df_street.show()"
   ]
  },
  {
   "cell_type": "code",
   "execution_count": 22,
   "id": "f7fd926b-1b6a-4cd3-b177-d01bf1133498",
   "metadata": {},
   "outputs": [
    {
     "name": "stdout",
     "output_type": "stream",
     "text": [
      "+----------+-----+\n",
      "|도로명(로)|count|\n",
      "+----------+-----+\n",
      "|월드컵북로|   50|\n",
      "|  마포대로|   40|\n",
      "|    양화로|   35|\n",
      "|  월드컵로|   24|\n",
      "|    백범로|   23|\n",
      "|    동교로|   21|\n",
      "|  와우산로|   20|\n",
      "|  성미산로|   19|\n",
      "|    독막로|   17|\n",
      "|어울마당로|   15|\n",
      "+----------+-----+\n",
      "\n"
     ]
    }
   ],
   "source": [
    "# 상위 10군데\n",
    "top10_agg_df_street = agg_df_street.limit(10)\n",
    "top10_agg_df_street.show()"
   ]
  },
  {
   "cell_type": "code",
   "execution_count": 23,
   "id": "4b0fc45a-bc0f-44dd-8fd5-b918b6ee0a89",
   "metadata": {},
   "outputs": [
    {
     "data": {
      "image/png": "[encoded data removed]",
      "text/plain": [
       "<Figure size 640x480 with 1 Axes>"
      ]
     },
     "metadata": {},
     "output_type": "display_data"
    }
   ],
   "source": [
    "# 겹치는 문제 발생\n",
    "pdstreet = top10_agg_df_street.toPandas()\n",
    "plt.scatter(pdstreet['도로명(로)'],pdstreet['count'])\n",
    "plt.xticks(fontproperties=font_prop)\n",
    "plt.show()"
   ]
  },
  {
   "cell_type": "code",
   "execution_count": 24,
   "id": "73882ca5-aa90-48b4-9174-866505487ee0",
   "metadata": {},
   "outputs": [
    {
     "data": {
      "image/png": "[encoded data removed]",
      "text/plain": [
       "<Figure size 640x480 with 1 Axes>"
      ]
     },
     "metadata": {},
     "output_type": "display_data"
    }
   ],
   "source": [
    "pdstreet = top10_agg_df_street.toPandas()\n",
    "plt.scatter(pdstreet['도로명(로)'],pdstreet['count'])\n",
    "plt.xticks(fontproperties=font_prop, fontsize = 8) # fontsize 설정!\n",
    "plt.show()"
   ]
  }
 ],
 "metadata": {
  "kernelspec": {
   "display_name": "Python 3 (ipykernel)",
   "language": "python",
   "name": "python3"
  },
  "language_info": {
   "codemirror_mode": {
    "name": "ipython",
    "version": 3
   },
   "file_extension": ".py",
   "mimetype": "text/x-python",
   "name": "python",
   "nbconvert_exporter": "python",
   "pygments_lexer": "ipython3",
   "version": "3.10.8"
  }
 },
 "nbformat": 4,
 "nbformat_minor": 5
}
